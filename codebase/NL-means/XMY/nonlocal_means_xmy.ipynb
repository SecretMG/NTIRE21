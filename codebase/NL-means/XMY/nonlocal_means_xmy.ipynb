{
 "cells": [
  {
   "cell_type": "code",
   "execution_count": 1,
   "metadata": {},
   "outputs": [],
   "source": [
    "%matplotlib inline"
   ]
  },
  {
   "cell_type": "code",
   "execution_count": 212,
   "metadata": {},
   "outputs": [],
   "source": [
    "import numpy as np\n",
    "import matplotlib.pyplot as plt\n",
    "import math\n",
    "import cv2\n",
    "\n",
    "from skimage import data, img_as_float, io\n",
    "from skimage.restoration import denoise_nl_means, estimate_sigma\n",
    "from skimage.util import random_noise\n"
   ]
  },
  {
   "cell_type": "code",
   "execution_count": 517,
   "metadata": {},
   "outputs": [],
   "source": [
    "patch_size = 7\n",
    "neighbour_dis = 21\n",
    "var_image = 0.02\n",
    "var_patch = 0.00\n",
    "h = 2\n",
    "w = cv2.getGaussianKernel(patch_size, var_patch)\n",
    "w = np.dot(w, w.T)\n",
    "w = np.tile(w[:, :, None], [1, 1, 3])"
   ]
  },
  {
   "cell_type": "code",
   "execution_count": 530,
   "metadata": {},
   "outputs": [],
   "source": [
    "def patch_distance_2d(p1, p2, s, var, n_channels):\n",
    "    DISTANCE_CUTOFF = 0.03\n",
    "    tmp_diff = p1 - p2\n",
    "    distance = np.sum(w * (tmp_diff * tmp_diff - var))\n",
    "#     print(distance)\n",
    "    if distance > DISTANCE_CUTOFF:\n",
    "        return 0.\n",
    "    return math.exp(-max(0.0, distance))"
   ]
  },
  {
   "cell_type": "code",
   "execution_count": 537,
   "metadata": {},
   "outputs": [],
   "source": [
    "\n",
    "def nl_means_denoising_2d(image, s, d, h, var):\n",
    "    n_row, n_col, n_channels = image.shape[0], image.shape[1], image.shape[2]\n",
    "    \n",
    "    A = (s - 1.) / 4.\n",
    "\n",
    "    # add padding of s/2\n",
    "    offset = s//2\n",
    "    padded = cv2.copyMakeBorder(image, offset, offset, offset, offset, cv2.BORDER_REFLECT)\n",
    "    print(\"size\", padded.shape)\n",
    "    \n",
    "    result = np.zeros_like(image)\n",
    "    \n",
    "    # iterate through whole image\n",
    "    for row in range(n_row):\n",
    "        i_st = row - min(d, row)\n",
    "        i_ed = row + min(d, n_row-row)\n",
    "        print(row)\n",
    "        for col in range(n_col):\n",
    "            j_st = col - min(d, col)\n",
    "            j_ed = col + min(d, n_col-col)\n",
    "            \n",
    "            current_patch = padded[row:row+s, col:col+s, :]\n",
    "            sum_weight = 0\n",
    "            pixel_val = np.zeros((n_channels))\n",
    "            \n",
    "            # neighbour patches\n",
    "            for i in range(i_st, i_ed):\n",
    "                for j in range(j_st, j_ed):\n",
    "                    cmp_patch = padded[i:i+s, j:j+s, :]\n",
    "                    weight = patch_distance_2d(current_patch, cmp_patch, patch_size, var_patch, n_channels)\n",
    "                    sum_weight += weight\n",
    "                    pixel_val += weight * padded[i+offset, j+offset]\n",
    "            result[row, col, :] = pixel_val / sum_weight\n",
    "#             print(result)\n",
    "            \n",
    "    return np.squeeze(np.asarray(result))"
   ]
  },
  {
   "cell_type": "code",
   "execution_count": 538,
   "metadata": {},
   "outputs": [
    {
     "name": "stdout",
     "output_type": "stream",
     "text": [
      "(225, 225, 3)\n"
     ]
    },
    {
     "data": {
      "text/plain": [
       "<matplotlib.image.AxesImage at 0x259fa183748>"
      ]
     },
     "execution_count": 538,
     "metadata": {},
     "output_type": "execute_result"
    },
    {
     "data": {
      "image/png": "[encoded data removed]",
      "text/plain": [
       "<Figure size 432x288 with 1 Axes>"
      ]
     },
     "metadata": {
      "needs_background": "light"
     },
     "output_type": "display_data"
    }
   ],
   "source": [
    "image = img_as_float(io.imread('lena.jpg'))\n",
    "print(image.shape)\n",
    "image = image[100:140, 130:170]\n",
    "sigma = 0.04\n",
    "noisy = random_noise(image, var=sigma**2)\n",
    "plt.imshow(noisy)"
   ]
  },
  {
   "cell_type": "code",
   "execution_count": 539,
   "metadata": {},
   "outputs": [
    {
     "name": "stdout",
     "output_type": "stream",
     "text": [
      "size (46, 46, 3)\n"
     ]
    },
    {
     "data": {
      "text/plain": [
       "<matplotlib.image.AxesImage at 0x259fa1de688>"
      ]
     },
     "execution_count": 539,
     "metadata": {},
     "output_type": "execute_result"
    },
    {
     "data": {
      "image/png": "[encoded data removed]",
      "text/plain": [
       "<Figure size 432x288 with 1 Axes>"
      ]
     },
     "metadata": {
      "needs_background": "light"
     },
     "output_type": "display_data"
    }
   ],
   "source": [
    "denoised = nl_means_denoising_2d(noisy, patch_size, neighbour_dis, 2, 0)\n",
    "plt.imshow(denoised)"
   ]
  },
  {
   "cell_type": "code",
   "execution_count": 540,
   "metadata": {},
   "outputs": [],
   "source": [
    "def psnr(A, B):\n",
    "    return 10*np.log(255*255.0/(((255*(A-B))**2).mean()))/np.log(10)"
   ]
  },
  {
   "cell_type": "code",
   "execution_count": 541,
   "metadata": {},
   "outputs": [
    {
     "name": "stdout",
     "output_type": "stream",
     "text": [
      "30.316066714172834\n"
     ]
    }
   ],
   "source": [
    "print(psnr(image, denoised))"
   ]
  },
  {
   "cell_type": "code",
   "execution_count": null,
   "metadata": {},
   "outputs": [],
   "source": []
  }
 ],
 "metadata": {
  "kernelspec": {
   "display_name": "Python 3",
   "language": "python",
   "name": "python3"
  },
  "language_info": {
   "codemirror_mode": {
    "name": "ipython",
    "version": 3
   },
   "file_extension": ".py",
   "mimetype": "text/x-python",
   "name": "python",
   "nbconvert_exporter": "python",
   "pygments_lexer": "ipython3",
   "version": "3.7.4"
  },
  "toc": {
   "base_numbering": 1,
   "nav_menu": {},
   "number_sections": true,
   "sideBar": true,
   "skip_h1_title": false,
   "title_cell": "Table of Contents",
   "title_sidebar": "Contents",
   "toc_cell": false,
   "toc_position": {},
   "toc_section_display": true,
   "toc_window_display": false
  }
 },
 "nbformat": 4,
 "nbformat_minor": 1
}